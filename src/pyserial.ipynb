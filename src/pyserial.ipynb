{
 "cells": [
  {
   "cell_type": "code",
   "execution_count": 1,
   "id": "2145ce78-708f-4e0a-a262-2f58e8186bac",
   "metadata": {},
   "outputs": [],
   "source": [
    "import serial\n",
    "import time\n"
   ]
  },
  {
   "cell_type": "code",
   "execution_count": 4,
   "id": "a67f4d65-9e12-4af4-b35d-cd6cc098331a",
   "metadata": {},
   "outputs": [],
   "source": [
    "ser = serial.Serial('/dev/cu.usbmodem14401', 115200) "
   ]
  },
  {
   "cell_type": "code",
   "execution_count": 3,
   "id": "22665240-63fe-4261-9305-1fc303502d07",
   "metadata": {},
   "outputs": [],
   "source": [
    "ser.close()"
   ]
  },
  {
   "cell_type": "code",
   "execution_count": 27,
   "id": "b9d81d0f-614e-4112-b5fc-1cbfb290043f",
   "metadata": {},
   "outputs": [],
   "source": [
    "a=\"a_\""
   ]
  },
  {
   "cell_type": "code",
   "execution_count": 29,
   "id": "e3be8d7f-236f-4695-8592-d91cab61bf37",
   "metadata": {},
   "outputs": [
    {
     "data": {
      "text/plain": [
       "str"
      ]
     },
     "execution_count": 29,
     "metadata": {},
     "output_type": "execute_result"
    }
   ],
   "source": [
    "type(a)"
   ]
  },
  {
   "cell_type": "code",
   "execution_count": 23,
   "id": "929152a1-3efd-4a57-8647-0cab21903b10",
   "metadata": {},
   "outputs": [
    {
     "data": {
      "text/plain": [
       "True"
      ]
     },
     "execution_count": 23,
     "metadata": {},
     "output_type": "execute_result"
    }
   ],
   "source": [
    "\"_\" in a\n"
   ]
  },
  {
   "cell_type": "code",
   "execution_count": 25,
   "id": "03431243-1fc1-48d2-900e-b1f280bf0e01",
   "metadata": {},
   "outputs": [
    {
     "data": {
      "text/plain": [
       "2"
      ]
     },
     "execution_count": 25,
     "metadata": {},
     "output_type": "execute_result"
    }
   ],
   "source": [
    "len(a.split(\"_\"))"
   ]
  },
  {
   "cell_type": "code",
   "execution_count": 10,
   "id": "d1e90614-fc5c-408a-9841-ded02fc6cd0b",
   "metadata": {},
   "outputs": [],
   "source": [
    "for i in range(0):\n",
    "    print('hi')"
   ]
  },
  {
   "cell_type": "code",
   "execution_count": 11,
   "id": "4ad339b0-4e15-4d24-b6d9-0d8c1b333c84",
   "metadata": {},
   "outputs": [],
   "source": [
    "x, y = [2,3]"
   ]
  },
  {
   "cell_type": "code",
   "execution_count": 13,
   "id": "1c385b0d-4b73-41bd-aa70-823dd5618801",
   "metadata": {},
   "outputs": [
    {
     "data": {
      "text/plain": [
       "3"
      ]
     },
     "execution_count": 13,
     "metadata": {},
     "output_type": "execute_result"
    }
   ],
   "source": [
    "y"
   ]
  },
  {
   "cell_type": "code",
   "execution_count": null,
   "id": "368feac0-59ea-47eb-9eb4-9b7bc3fc14e6",
   "metadata": {},
   "outputs": [],
   "source": []
  },
  {
   "cell_type": "code",
   "execution_count": 2,
   "id": "a9527938-0af4-42a0-b7cf-53d2b34c9483",
   "metadata": {},
   "outputs": [],
   "source": [
    "from pythonosc import udp_client"
   ]
  },
  {
   "cell_type": "code",
   "execution_count": 6,
   "id": "206dd8e8-5bf4-4eeb-ad4f-931f542eaf28",
   "metadata": {},
   "outputs": [],
   "source": [
    "port = 5005\n",
    "ip = '127.0.0.1'\n",
    "\n",
    "client = udp_client.SimpleUDPClient(ip, port)\n",
    "\n",
    "for x in range(10):\n",
    "    client.send_message(\"/filter\", [10,4])\n"
   ]
  },
  {
   "cell_type": "code",
   "execution_count": null,
   "id": "ef5039b2-a8cd-4c1b-907e-a59bc4deed35",
   "metadata": {},
   "outputs": [],
   "source": [
    "x = 0\n",
    "y = 0\n",
    "ser.open()\n",
    "# ser.flush()\n",
    "try:\n",
    "    print(\"serial started\")\n",
    "    cur_time = time.perf_counter()\n",
    "    prev_time = cur_time\n",
    "    while True:\n",
    "        if cur_time - prev_time >= 0.10:\n",
    "            prev_time = cur_time\n",
    "            ser.write(b'1\\n')\n",
    "            points = []\n",
    "            if ser.in_waiting:\n",
    "                # print('hi:')\n",
    "                packet = ser.readline().decode('utf').split(\"_\")\n",
    "                for i in range(len(packet)-1):\n",
    "                    x,y = packet[i].split(',')\n",
    "                    points.append([int(x),int(y)])\n",
    "                if len(points)>0:\n",
    "                    print(points)\n",
    "                    \n",
    "            \n",
    "            # print('frame')\n",
    "        cur_time = time.perf_counter()\n",
    "        \n",
    "except KeyboardInterrupt:\n",
    "    ser.close()\n",
    "    print(\"serial closed\")"
   ]
  },
  {
   "cell_type": "code",
   "execution_count": null,
   "id": "23ab6858-8d74-4750-b68e-f2ad15711644",
   "metadata": {},
   "outputs": [],
   "source": []
  },
  {
   "cell_type": "code",
   "execution_count": 5,
   "id": "66d9ce24-ff11-48e9-8e20-69f884d7019d",
   "metadata": {},
   "outputs": [],
   "source": [
    "ser.close()"
   ]
  },
  {
   "cell_type": "code",
   "execution_count": 50,
   "id": "088222c1-6f79-415c-a039-537fcb7e3154",
   "metadata": {},
   "outputs": [],
   "source": [
    "import torch\n",
    "from torchvision.transforms.functional import to_pil_image\n",
    "from torch.nn.functional import interpolate"
   ]
  },
  {
   "cell_type": "code",
   "execution_count": 63,
   "id": "04433b85-8abe-4d67-a80a-3d31a48f1711",
   "metadata": {},
   "outputs": [],
   "source": [
    "a = torch.ones((512,512))"
   ]
  },
  {
   "cell_type": "code",
   "execution_count": 64,
   "id": "4790f250-30c0-4924-a564-70e7bf32ed05",
   "metadata": {},
   "outputs": [],
   "source": [
    "a[10:15,10:15]=0\n",
    "a = a.unsqueeze(0).unsqueeze(1)\n",
    "a = interpolate(a, size=(112,112))"
   ]
  },
  {
   "cell_type": "code",
   "execution_count": 67,
   "id": "052b5a42-3d5f-41e6-b246-2fc792925d19",
   "metadata": {},
   "outputs": [],
   "source": [
    "b = to_pil_image(a[0])"
   ]
  },
  {
   "cell_type": "code",
   "execution_count": 68,
   "id": "89328a18-d07c-4780-b1af-cbd8e332922d",
   "metadata": {},
   "outputs": [
    {
     "data": {
      "image/jpeg": "[encoded data removed]",
      "image/png": "[encoded data removed]",
      "text/plain": [
       "<PIL.Image.Image image mode=L size=112x112>"
      ]
     },
     "execution_count": 68,
     "metadata": {},
     "output_type": "execute_result"
    }
   ],
   "source": [
    "b"
   ]
  },
  {
   "cell_type": "code",
   "execution_count": null,
   "id": "82c1a8ed-d7ab-4ce1-afcb-c8f86212b7b0",
   "metadata": {},
   "outputs": [],
   "source": []
  },
  {
   "cell_type": "code",
   "execution_count": null,
   "id": "781753ca-5105-4e9a-9951-7c695fc453ca",
   "metadata": {},
   "outputs": [],
   "source": []
  },
  {
   "cell_type": "code",
   "execution_count": null,
   "id": "914913c2-b1c7-4693-91ef-35512c4df6b5",
   "metadata": {},
   "outputs": [],
   "source": []
  }
 ],
 "metadata": {
  "kernelspec": {
   "display_name": "Python 3 (ipykernel)",
   "language": "python",
   "name": "python3"
  },
  "language_info": {
   "codemirror_mode": {
    "name": "ipython",
    "version": 3
   },
   "file_extension": ".py",
   "mimetype": "text/x-python",
   "name": "python",
   "nbconvert_exporter": "python",
   "pygments_lexer": "ipython3",
   "version": "3.10.13"
  }
 },
 "nbformat": 4,
 "nbformat_minor": 5
}
