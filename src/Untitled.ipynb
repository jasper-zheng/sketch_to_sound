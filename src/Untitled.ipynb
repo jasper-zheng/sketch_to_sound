{
 "cells": [
  {
   "cell_type": "code",
   "execution_count": 1,
   "id": "06b9e013-80fe-4161-85d2-aef4bad6a9fc",
   "metadata": {},
   "outputs": [],
   "source": [
    "from pyfirmata import Arduino, util, Board"
   ]
  },
  {
   "cell_type": "code",
   "execution_count": 2,
   "id": "da0dec56-d81f-4d7c-99ba-d1a44bff3ae1",
   "metadata": {},
   "outputs": [],
   "source": [
    "mega = {\n",
    "        'digital': tuple(x for x in range(14)),\n",
    "        'analog': tuple(x for x in range(7)),\n",
    "        'pwm': (3, 5, 6, 9, 10, 11),\n",
    "        'use_ports': True,\n",
    "        'disabled': (0, 1)  # Rx, Tx, Crystal\n",
    "    }\n",
    "board = Board('/dev/cu.usbmodem14201', layout=mega)\n",
    "it = util.Iterator(board)"
   ]
  },
  {
   "cell_type": "code",
   "execution_count": 3,
   "id": "802f7866-b803-4364-8e96-b3c1e51017cf",
   "metadata": {},
   "outputs": [
    {
     "data": {
      "text/plain": [
       "[<pyfirmata.pyfirmata.Pin at 0x7fe0ff376f80>,\n",
       " <pyfirmata.pyfirmata.Pin at 0x7fe0ff376fb0>,\n",
       " <pyfirmata.pyfirmata.Pin at 0x7fe0ff377220>,\n",
       " <pyfirmata.pyfirmata.Pin at 0x7fe0ff377250>,\n",
       " <pyfirmata.pyfirmata.Pin at 0x7fe0ff377280>,\n",
       " <pyfirmata.pyfirmata.Pin at 0x7fe0ff3764d0>,\n",
       " <pyfirmata.pyfirmata.Pin at 0x7fe0ff376020>]"
      ]
     },
     "execution_count": 3,
     "metadata": {},
     "output_type": "execute_result"
    }
   ],
   "source": [
    "board.analog\n"
   ]
  },
  {
   "cell_type": "code",
   "execution_count": 4,
   "id": "74c225ac-2f09-4c5f-b756-51773ed4ddcf",
   "metadata": {},
   "outputs": [],
   "source": [
    "it.start()"
   ]
  },
  {
   "cell_type": "code",
   "execution_count": 5,
   "id": "2a4be2e2-322e-49e6-ae8a-b9e9db89ae6e",
   "metadata": {},
   "outputs": [],
   "source": [
    "board.analog[6].enable_reporting()\n",
    "board.analog[0].enable_reporting()\n"
   ]
  },
  {
   "cell_type": "code",
   "execution_count": 6,
   "id": "025743b2-79a0-423d-8961-981ebf57b0fe",
   "metadata": {},
   "outputs": [],
   "source": [
    "from time import sleep"
   ]
  },
  {
   "cell_type": "code",
   "execution_count": 7,
   "id": "9c0b879f-8bc6-4c01-b6c5-3260232726cc",
   "metadata": {},
   "outputs": [
    {
     "name": "stdout",
     "output_type": "stream",
     "text": [
      "0.0332\n",
      "0.0332\n",
      "0.0332\n",
      "0.0332\n",
      "0.0332\n",
      "0.0332\n",
      "0.0332\n",
      "0.0059\n",
      "0.0059\n",
      "0.0029\n",
      "0.0039\n",
      "0.0078\n",
      "0.0098\n",
      "0.0108\n",
      "0.0166\n",
      "0.0147\n",
      "0.0137\n",
      "0.0156\n",
      "0.0166\n",
      "0.0156\n",
      "0.0137\n",
      "0.0127\n",
      "0.0127\n",
      "0.0098\n",
      "0.0078\n",
      "0.0078\n",
      "0.0049\n",
      "0.0059\n",
      "0.0127\n",
      "0.0137\n",
      "0.0176\n",
      "0.0254\n",
      "0.0147\n",
      "0.0332\n",
      "0.0323\n",
      "0.0332\n",
      "0.0332\n",
      "0.0332\n",
      "0.0332\n",
      "0.0332\n",
      "0.0332\n",
      "0.0332\n"
     ]
    },
    {
     "ename": "KeyboardInterrupt",
     "evalue": "",
     "output_type": "error",
     "traceback": [
      "\u001b[0;31m---------------------------------------------------------------------------\u001b[0m",
      "\u001b[0;31mKeyboardInterrupt\u001b[0m                         Traceback (most recent call last)",
      "Cell \u001b[0;32mIn[7], line 5\u001b[0m\n\u001b[1;32m      3\u001b[0m distance \u001b[38;5;241m=\u001b[39m board\u001b[38;5;241m.\u001b[39manalog[\u001b[38;5;241m6\u001b[39m]\u001b[38;5;241m.\u001b[39mread()\n\u001b[1;32m      4\u001b[0m \u001b[38;5;28mprint\u001b[39m(distance)\n\u001b[0;32m----> 5\u001b[0m \u001b[43msleep\u001b[49m\u001b[43m(\u001b[49m\u001b[38;5;241;43m0.2\u001b[39;49m\u001b[43m)\u001b[49m\n",
      "\u001b[0;31mKeyboardInterrupt\u001b[0m: "
     ]
    }
   ],
   "source": [
    "while True:\n",
    "\n",
    "    distance = board.analog[6].read()\n",
    "    print(distance)\n",
    "    sleep(0.2)"
   ]
  },
  {
   "cell_type": "code",
   "execution_count": 11,
   "id": "ace43004-b9ee-48cb-bbdf-10642bd880d9",
   "metadata": {},
   "outputs": [],
   "source": [
    "board.analog[0].read()"
   ]
  },
  {
   "cell_type": "code",
   "execution_count": 1,
   "id": "eb9ee734-0d25-4b79-ba8f-f6114831fa48",
   "metadata": {},
   "outputs": [
    {
     "data": {
      "text/plain": [
       "0.009765625"
      ]
     },
     "execution_count": 1,
     "metadata": {},
     "output_type": "execute_result"
    }
   ],
   "source": [
    "10/1024"
   ]
  },
  {
   "cell_type": "code",
   "execution_count": null,
   "id": "4a75249a-8d5a-4fec-903f-f0e3935c9096",
   "metadata": {},
   "outputs": [],
   "source": []
  }
 ],
 "metadata": {
  "kernelspec": {
   "display_name": "Python 3 (ipykernel)",
   "language": "python",
   "name": "python3"
  },
  "language_info": {
   "codemirror_mode": {
    "name": "ipython",
    "version": 3
   },
   "file_extension": ".py",
   "mimetype": "text/x-python",
   "name": "python",
   "nbconvert_exporter": "python",
   "pygments_lexer": "ipython3",
   "version": "3.11.3"
  }
 },
 "nbformat": 4,
 "nbformat_minor": 5
}
