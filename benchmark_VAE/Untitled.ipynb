{
 "cells": [
  {
   "cell_type": "code",
   "execution_count": 1,
   "id": "3cd65f3d-c554-44b9-bf8c-f66153166848",
   "metadata": {},
   "outputs": [
    {
     "name": "stdout",
     "output_type": "stream",
     "text": [
      "/Users/winter_camp/Documents/London/PhD/ECS742/Final/src\n"
     ]
    }
   ],
   "source": [
    "!pwd"
   ]
  },
  {
   "cell_type": "code",
   "execution_count": 1,
   "id": "fcd23c27-3ca4-484f-8d3c-909bf0e8e064",
   "metadata": {},
   "outputs": [
    {
     "name": "stderr",
     "output_type": "stream",
     "text": [
      "/Library/Frameworks/Python.framework/Versions/3.11/lib/python3.11/site-packages/tqdm/auto.py:21: TqdmWarning: IProgress not found. Please update jupyter and ipywidgets. See https://ipywidgets.readthedocs.io/en/stable/user_install.html\n",
      "  from .autonotebook import tqdm as notebook_tqdm\n"
     ]
    }
   ],
   "source": [
    "from benchmark_VAE.src.pythae.models import VQVAE, VQVAEConfig\n",
    "from benchmark_VAE.src.pythae.trainers import BaseTrainerConfig\n",
    "from benchmark_VAE.src.pythae.pipelines.training import TrainingPipeline\n",
    "from benchmark_VAE.src.pythae.models.nn.benchmarks.sketches64.resnets import Encoder_ResNet_VQVAE_MNIST, Decoder_ResNet_VQVAE_MNIST\n",
    "\n",
    "import torch\n",
    "import torchvision.datasets as datasets\n",
    "\n",
    "device = \"cuda\" if torch.cuda.is_available() else \"cpu\"\n"
   ]
  },
  {
   "cell_type": "code",
   "execution_count": 2,
   "id": "21202b47-7645-4ab1-8d38-9c0d7aa6c4c2",
   "metadata": {},
   "outputs": [],
   "source": [
    "from torchvision.transforms.functional import to_pil_image"
   ]
  },
  {
   "cell_type": "code",
   "execution_count": 3,
   "id": "a56c4f68-5b92-46f6-b960-db1caf7fcec6",
   "metadata": {},
   "outputs": [],
   "source": [
    "config = BaseTrainerConfig(\n",
    "    output_dir='my_model',\n",
    "    learning_rate=1e-3,\n",
    "    per_device_train_batch_size=32,\n",
    "    per_device_eval_batch_size=32,\n",
    "    num_epochs=10, # Change this to train the model a bit more\n",
    ")\n",
    "\n",
    "\n",
    "model_config = VQVAEConfig(\n",
    "    latent_dim=32,\n",
    "    input_dim=(1, 64, 64),\n",
    "    commitment_loss_factor=0.25,\n",
    "    quantization_loss_factor=1.0,\n",
    "    num_embeddings=128,\n",
    "    use_ema=True,\n",
    "    decay=0.99\n",
    ")\n",
    "\n",
    "model = VQVAE(\n",
    "    model_config=model_config,\n",
    "    encoder=Encoder_ResNet_VQVAE_MNIST(model_config), \n",
    "    decoder=Decoder_ResNet_VQVAE_MNIST(model_config) \n",
    ")"
   ]
  },
  {
   "cell_type": "code",
   "execution_count": 4,
   "id": "023923a9-1ce9-4b97-896f-494ab4cc484c",
   "metadata": {
    "scrolled": true
   },
   "outputs": [
    {
     "data": {
      "text/plain": [
       "VQVAE(\n",
       "  (decoder): Decoder_ResNet_VQVAE_MNIST(\n",
       "    (layers): ModuleList(\n",
       "      (0): ConvTranspose2d(32, 128, kernel_size=(1, 1), stride=(1, 1))\n",
       "      (1): ConvTranspose2d(128, 128, kernel_size=(3, 3), stride=(2, 2), padding=(1, 1), output_padding=(1, 1))\n",
       "      (2): Sequential(\n",
       "        (0): ResBlock(\n",
       "          (conv_block): Sequential(\n",
       "            (0): ReLU()\n",
       "            (1): Conv2d(128, 32, kernel_size=(3, 3), stride=(1, 1), padding=(1, 1))\n",
       "            (2): ReLU()\n",
       "            (3): Conv2d(32, 128, kernel_size=(1, 1), stride=(1, 1))\n",
       "          )\n",
       "        )\n",
       "        (1): ResBlock(\n",
       "          (conv_block): Sequential(\n",
       "            (0): ReLU()\n",
       "            (1): Conv2d(128, 32, kernel_size=(3, 3), stride=(1, 1), padding=(1, 1))\n",
       "            (2): ReLU()\n",
       "            (3): Conv2d(32, 128, kernel_size=(1, 1), stride=(1, 1))\n",
       "          )\n",
       "        )\n",
       "        (2): ReLU()\n",
       "      )\n",
       "      (3): Sequential(\n",
       "        (0): ConvTranspose2d(128, 64, kernel_size=(3, 3), stride=(2, 2), padding=(1, 1), output_padding=(1, 1))\n",
       "        (1): ReLU()\n",
       "      )\n",
       "      (4): Sequential(\n",
       "        (0): ConvTranspose2d(64, 32, kernel_size=(3, 3), stride=(2, 2), padding=(1, 1), output_padding=(1, 1))\n",
       "        (1): ReLU()\n",
       "      )\n",
       "      (5): Sequential(\n",
       "        (0): ConvTranspose2d(32, 1, kernel_size=(3, 3), stride=(2, 2), padding=(1, 1), output_padding=(1, 1))\n",
       "        (1): Sigmoid()\n",
       "      )\n",
       "    )\n",
       "  )\n",
       "  (encoder): Encoder_ResNet_VQVAE_MNIST(\n",
       "    (layers): ModuleList(\n",
       "      (0): Sequential(\n",
       "        (0): Conv2d(1, 32, kernel_size=(4, 4), stride=(2, 2), padding=(1, 1))\n",
       "      )\n",
       "      (1): Sequential(\n",
       "        (0): Conv2d(32, 64, kernel_size=(4, 4), stride=(2, 2), padding=(1, 1))\n",
       "      )\n",
       "      (2): Sequential(\n",
       "        (0): Conv2d(64, 128, kernel_size=(4, 4), stride=(2, 2), padding=(1, 1))\n",
       "      )\n",
       "      (3): Sequential(\n",
       "        (0): Conv2d(128, 128, kernel_size=(3, 3), stride=(2, 2), padding=(1, 1))\n",
       "      )\n",
       "      (4): Sequential(\n",
       "        (0): ResBlock(\n",
       "          (conv_block): Sequential(\n",
       "            (0): ReLU()\n",
       "            (1): Conv2d(128, 32, kernel_size=(3, 3), stride=(1, 1), padding=(1, 1))\n",
       "            (2): ReLU()\n",
       "            (3): Conv2d(32, 128, kernel_size=(1, 1), stride=(1, 1))\n",
       "          )\n",
       "        )\n",
       "        (1): ResBlock(\n",
       "          (conv_block): Sequential(\n",
       "            (0): ReLU()\n",
       "            (1): Conv2d(128, 32, kernel_size=(3, 3), stride=(1, 1), padding=(1, 1))\n",
       "            (2): ReLU()\n",
       "            (3): Conv2d(32, 128, kernel_size=(1, 1), stride=(1, 1))\n",
       "          )\n",
       "        )\n",
       "      )\n",
       "    )\n",
       "    (pre_qantized): Conv2d(128, 32, kernel_size=(1, 1), stride=(1, 1))\n",
       "  )\n",
       "  (quantizer): QuantizerEMA()\n",
       ")"
      ]
     },
     "execution_count": 4,
     "metadata": {},
     "output_type": "execute_result"
    }
   ],
   "source": [
    "model"
   ]
  },
  {
   "cell_type": "code",
   "execution_count": 10,
   "id": "dc0e1a73-528c-4da3-9c96-933481b885b3",
   "metadata": {},
   "outputs": [],
   "source": [
    "mnist_trainset = datasets.MNIST(root='../../data', train=True, download=True, transform=None)\n",
    "\n",
    "train_dataset = mnist_trainset.data[:-50000].reshape(-1, 1, 28, 28) / 255.\n",
    "eval_dataset = mnist_trainset.data[-10000:].reshape(-1, 1, 28, 28) / 255."
   ]
  },
  {
   "cell_type": "code",
   "execution_count": 7,
   "id": "6eb428cf-6e1a-478e-a251-0eff24f6379e",
   "metadata": {},
   "outputs": [
    {
     "data": {
      "text/plain": [
       "torch.Size([1, 1, 28, 28])"
      ]
     },
     "execution_count": 7,
     "metadata": {},
     "output_type": "execute_result"
    }
   ],
   "source": [
    "train_dataset[:1].shape"
   ]
  },
  {
   "cell_type": "code",
   "execution_count": null,
   "id": "1f9795fe-d108-4b2c-b984-562cef9e7a90",
   "metadata": {},
   "outputs": [],
   "source": []
  },
  {
   "cell_type": "code",
   "execution_count": 49,
   "id": "08ef3f8b-79f0-4427-a3d4-f4fb39c0a2b1",
   "metadata": {},
   "outputs": [
    {
     "data": {
      "text/plain": [
       "torch.Size([1, 16, 4, 4])"
      ]
     },
     "execution_count": 49,
     "metadata": {},
     "output_type": "execute_result"
    }
   ],
   "source": [
    "embedding = model.encoder(train_dataset[:1]).embedding\n",
    "embedding.shape"
   ]
  },
  {
   "cell_type": "code",
   "execution_count": 50,
   "id": "63242cc1-cc77-41d4-b299-d5dc415fd083",
   "metadata": {},
   "outputs": [
    {
     "data": {
      "text/plain": [
       "torch.Size([1, 4, 4, 16])"
      ]
     },
     "execution_count": 50,
     "metadata": {},
     "output_type": "execute_result"
    }
   ],
   "source": [
    "embeddings = embedding.permute(0, 2, 3, 1)\n",
    "embeddings.shape"
   ]
  },
  {
   "cell_type": "code",
   "execution_count": 53,
   "id": "c631a867-41c3-4c9e-b5f8-0a7e6ce56890",
   "metadata": {},
   "outputs": [],
   "source": [
    "z = model.quantizer(embeddings, uses_ddp=False).quantized_vector"
   ]
  },
  {
   "cell_type": "code",
   "execution_count": 20,
   "id": "d029f8fe-51d0-4a8f-a6fe-3ebf379d0e01",
   "metadata": {},
   "outputs": [
    {
     "data": {
      "text/plain": [
       "torch.Size([3, 1, 64, 64])"
      ]
     },
     "execution_count": 20,
     "metadata": {},
     "output_type": "execute_result"
    }
   ],
   "source": [
    "img = torch.nn.functional.interpolate(train_dataset[2:5], size=(64,64))\n",
    "img.shape"
   ]
  },
  {
   "cell_type": "code",
   "execution_count": 21,
   "id": "86eea86f-c5cb-4183-b754-a11e83a8c2b9",
   "metadata": {},
   "outputs": [
    {
     "name": "stdout",
     "output_type": "stream",
     "text": [
      "CPU times: user 16.1 ms, sys: 2.85 ms, total: 18.9 ms\n",
      "Wall time: 17.1 ms\n"
     ]
    }
   ],
   "source": [
    "%%time\n",
    "out = model(dict(data=img))"
   ]
  },
  {
   "cell_type": "code",
   "execution_count": 22,
   "id": "b4b894a9-c40c-4a6a-81e1-0b2cc8409bd1",
   "metadata": {},
   "outputs": [
    {
     "data": {
      "text/plain": [
       "odict_keys(['recon_loss', 'vq_loss', 'loss', 'recon_x', 'z', 'quantized_indices'])"
      ]
     },
     "execution_count": 22,
     "metadata": {},
     "output_type": "execute_result"
    }
   ],
   "source": [
    "out.keys()"
   ]
  },
  {
   "cell_type": "code",
   "execution_count": 23,
   "id": "c546f6e0-de07-49e3-a1bb-2049c954f374",
   "metadata": {},
   "outputs": [
    {
     "data": {
      "image/png": "[encoded data removed]",
      "text/plain": [
       "<PIL.Image.Image image mode=L size=64x64>"
      ]
     },
     "execution_count": 23,
     "metadata": {},
     "output_type": "execute_result"
    }
   ],
   "source": [
    "to_pil_image(out.recon_x[0])"
   ]
  },
  {
   "cell_type": "code",
   "execution_count": null,
   "id": "38d89f27-9afe-4370-bdfe-63016c9c4cd3",
   "metadata": {},
   "outputs": [],
   "source": []
  },
  {
   "cell_type": "code",
   "execution_count": 7,
   "id": "02276d4c-2114-46c8-8363-bd4cea12f68f",
   "metadata": {},
   "outputs": [
    {
     "data": {
      "text/plain": [
       "Decoder_ResNet_VQVAE_MNIST(\n",
       "  (layers): ModuleList(\n",
       "    (0): ConvTranspose2d(16, 128, kernel_size=(1, 1), stride=(1, 1))\n",
       "    (1): ConvTranspose2d(128, 128, kernel_size=(3, 3), stride=(2, 2), padding=(1, 1))\n",
       "    (2): Sequential(\n",
       "      (0): ResBlock(\n",
       "        (conv_block): Sequential(\n",
       "          (0): ReLU()\n",
       "          (1): Conv2d(128, 32, kernel_size=(3, 3), stride=(1, 1), padding=(1, 1))\n",
       "          (2): ReLU()\n",
       "          (3): Conv2d(32, 128, kernel_size=(1, 1), stride=(1, 1))\n",
       "        )\n",
       "      )\n",
       "      (1): ResBlock(\n",
       "        (conv_block): Sequential(\n",
       "          (0): ReLU()\n",
       "          (1): Conv2d(128, 32, kernel_size=(3, 3), stride=(1, 1), padding=(1, 1))\n",
       "          (2): ReLU()\n",
       "          (3): Conv2d(32, 128, kernel_size=(1, 1), stride=(1, 1))\n",
       "        )\n",
       "      )\n",
       "      (2): ReLU()\n",
       "    )\n",
       "    (3): Sequential(\n",
       "      (0): ConvTranspose2d(128, 64, kernel_size=(3, 3), stride=(2, 2), padding=(1, 1), output_padding=(1, 1))\n",
       "      (1): ReLU()\n",
       "    )\n",
       "    (4): Sequential(\n",
       "      (0): ConvTranspose2d(64, 1, kernel_size=(3, 3), stride=(2, 2), padding=(1, 1), output_padding=(1, 1))\n",
       "      (1): Sigmoid()\n",
       "    )\n",
       "  )\n",
       ")"
      ]
     },
     "execution_count": 7,
     "metadata": {},
     "output_type": "execute_result"
    }
   ],
   "source": [
    "model.decoder"
   ]
  },
  {
   "cell_type": "code",
   "execution_count": 58,
   "id": "88daaae1-f76b-46ec-9e82-b5a1e5cfb61a",
   "metadata": {},
   "outputs": [],
   "source": [
    "import torch.nn as nn"
   ]
  },
  {
   "cell_type": "code",
   "execution_count": 83,
   "id": "961504ab-6896-4c26-b4dd-756b2c882dd2",
   "metadata": {},
   "outputs": [],
   "source": [
    "a = nn.ConvTranspose2d(1, 1, 3, 2, padding=1)"
   ]
  },
  {
   "cell_type": "code",
   "execution_count": 84,
   "id": "d8ac1901-2d3e-42f2-a115-da71f384438b",
   "metadata": {},
   "outputs": [],
   "source": [
    "a = nn.Conv2d(1,1,3,2,padding=1)"
   ]
  },
  {
   "cell_type": "code",
   "execution_count": 85,
   "id": "97fc863c-7521-4685-9cbd-41b44bbf9f9d",
   "metadata": {},
   "outputs": [],
   "source": [
    "b = torch.ones((3,1,28,28))"
   ]
  },
  {
   "cell_type": "code",
   "execution_count": 86,
   "id": "450abe25-4b87-465a-88dd-301c17dad95a",
   "metadata": {},
   "outputs": [],
   "source": [
    "c = a(b)"
   ]
  },
  {
   "cell_type": "code",
   "execution_count": 87,
   "id": "3365afdd-2690-442e-bc0f-36ec2666f42b",
   "metadata": {},
   "outputs": [
    {
     "data": {
      "text/plain": [
       "torch.Size([3, 1, 14, 14])"
      ]
     },
     "execution_count": 87,
     "metadata": {},
     "output_type": "execute_result"
    }
   ],
   "source": [
    "c.shape"
   ]
  },
  {
   "cell_type": "code",
   "execution_count": 68,
   "id": "46fe5d75-b08f-4163-b4f1-d83329c2ea85",
   "metadata": {},
   "outputs": [],
   "source": [
    "d = nn.ConvTranspose2d(1, 1, 3, 2, padding=1, output_padding=(1,1))"
   ]
  },
  {
   "cell_type": "code",
   "execution_count": 69,
   "id": "1d043034-c2e1-44b6-a572-e1abfce96ac0",
   "metadata": {},
   "outputs": [
    {
     "data": {
      "text/plain": [
       "torch.Size([3, 1, 14, 14])"
      ]
     },
     "execution_count": 69,
     "metadata": {},
     "output_type": "execute_result"
    }
   ],
   "source": [
    "e = d(c)\n",
    "e.shape"
   ]
  },
  {
   "cell_type": "code",
   "execution_count": null,
   "id": "66e55270-439d-4382-a8bb-025680fbab11",
   "metadata": {},
   "outputs": [],
   "source": []
  }
 ],
 "metadata": {
  "kernelspec": {
   "display_name": "Python 3 (ipykernel)",
   "language": "python",
   "name": "python3"
  },
  "language_info": {
   "codemirror_mode": {
    "name": "ipython",
    "version": 3
   },
   "file_extension": ".py",
   "mimetype": "text/x-python",
   "name": "python",
   "nbconvert_exporter": "python",
   "pygments_lexer": "ipython3",
   "version": "3.11.3"
  }
 },
 "nbformat": 4,
 "nbformat_minor": 5
}
